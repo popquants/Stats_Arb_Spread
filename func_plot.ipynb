from func_cointegration import extract_close_prices
from func_cointegration import calculate_cointegration
from func_cointegration import calculate_spread
from func_cointegration import calculate_zscore
import matplotlib.pyplot as plt
import pandas as pd

def plot_trends(sym_1, sym_2, price_data):
    # Extract prices: here price_data[sym] is already the series of prices from wide_df.
    prices_1 = extract_close_prices(price_data[sym_1])
    prices_2 = extract_close_prices(price_data[sym_2])
    
    # Calculate cointegration statistics.
    coint_flag, p_value, t_value, c_value, hedge_ratio, zero_crossings = calculate_cointegration(prices_1, prices_2)
    
    # Calculate spread and zscore using the hedge ratio from cointegration.
    spread = calculate_spread(prices_1, prices_2, hedge_ratio)
    zscore = calculate_zscore(spread)
    
    # Calculate percentage changes relative to the first price.
    df = pd.DataFrame({sym_1: prices_1, sym_2: prices_2})
    df[f"{sym_1}_pct"] = df[sym_1] / df[sym_1].iloc[0]
    df[f"{sym_2}_pct"] = df[sym_2] / df[sym_2].iloc[0]
    series_1 = df[f"{sym_1}_pct"].astype(float).values
    series_2 = df[f"{sym_2}_pct"].astype(float).values
    
    # Save results for backtesting.
    df_backtest = pd.DataFrame({
        sym_1: prices_1,
        sym_2: prices_2,
        "Spread": spread,
        "ZScore": zscore
    })
    df_backtest.to_csv("backtest_file.csv", index=False)
    print("File for backtesting saved to 'backtest_file.csv'.")
    
    # Plot charts: percentage changes, spread, and zscore.
    fig, axs = plt.subplots(3, figsize=(16, 8))
    fig.suptitle(f"Price and Spread - {sym_1} vs {sym_2}")
    
    # Plot percentage change series.
    axs[0].plot(series_1, label=sym_1)
    axs[0].plot(series_2, label=sym_2)
    axs[0].set_title("Percentage Price Change")
    axs[0].legend()
    
    # Plot spread.
    axs[1].plot(spread)
    axs[1].set_title("Spread")
    
    # Plot z-score.
    axs[2].plot(zscore)
    axs[2].set_title("Z-Score")
    
    plt.tight_layout(rect=[0, 0.03, 1, 0.95])
    plt.show()


if __name__ == '__main__':
    # Read the wide format CSV (each column is a symbol's close prices).
    price_data = pd.read_csv('wide_df.csv', index_col='datetime', parse_dates=True)
    
    # Replace 'XXX/USDT' and 'YYY/USDT' with the actual symbols you want to compare.
    plot_trends('XXX/USDT', 'YYY/USDT', price_data)
